{
  "nbformat": 4,
  "nbformat_minor": 0,
  "metadata": {
    "colab": {
      "name": "Untitled0.ipynb",
      "provenance": [],
      "collapsed_sections": []
    },
    "kernelspec": {
      "name": "python3",
      "display_name": "Python 3"
    },
    "language_info": {
      "name": "python"
    }
  },
  "cells": [
    {
      "cell_type": "markdown",
      "source": [
        "Isaac Manjarrez Leyva\n",
        "Algoritmo genetico"
      ],
      "metadata": {
        "id": "71-D8ufbnRWZ"
      }
    },
    {
      "cell_type": "markdown",
      "source": [
        "Importar librerias"
      ],
      "metadata": {
        "id": "y6dmaTLxnNJr"
      }
    },
    {
      "cell_type": "code",
      "execution_count": 32,
      "metadata": {
        "id": "hjOIdJ1znFGe"
      },
      "outputs": [],
      "source": [
        "import matplotlib.pyplot as plt\n",
        "import pandas as pd\n",
        "import numpy as np\n",
        "import random\n",
        "from enum import Enum"
      ]
    },
    {
      "cell_type": "markdown",
      "source": [
        "Clase cromosoma que maneja los genes, los cuales son la parte mas basica de un cromosoma, ademas implementa funciones para la manipualacion de los genes como lo es la normalizacion, calculo de riesgo, y calculo del rendimiento de el cromosoma"
      ],
      "metadata": {
        "id": "LvQTo7BBnWW6"
      }
    },
    {
      "cell_type": "code",
      "source": [
        "class Chromosome:\n",
        "    def __init__(self):\n",
        "        self.genes = np.array(self.__generate_random_genes())\n",
        "\n",
        "    @staticmethod\n",
        "    def __generate_random_genes():\n",
        "        n = 10\n",
        "        random_values = [random.random() for x in range(n)]\n",
        "        summation = sum(random_values)\n",
        "        return [x / summation for x in random_values]\n",
        "\n",
        "    def normalize(self):\n",
        "        self.genes = [x / sum(self.genes) for x in self.genes]\n",
        "\n",
        "    def compute_risk(self, covariance):\n",
        "        risk = 0\n",
        "        for i in range(0, len(self.genes)):\n",
        "            for j in range(0, len(self.genes)):\n",
        "                risk += self.genes[i] * self.genes[j] * covariance[i][j]\n",
        "        return risk\n",
        "\n",
        "    def compute_chromosome_return(self, average_expected_returns):\n",
        "        return sum([average_expected_returns[0][i] * self.genes[i] for i in range(len(\n",
        "                average_expected_returns[0]))])"
      ],
      "metadata": {
        "id": "4OMKkvhanp_K"
      },
      "execution_count": 33,
      "outputs": []
    },
    {
      "cell_type": "markdown",
      "source": [
        "Clase portafolio, que maneja los datos de el portafolio, encargado de leer los activos del portafolio, calculo de retornos y calculo de retornos en promedio, ademas de guardar los resultados en variables"
      ],
      "metadata": {
        "id": "qM97Edm5nrsX"
      }
    },
    {
      "cell_type": "code",
      "source": [
        "class PortfolioData:\n",
        "    def __init__(self):\n",
        "        self.assets = pd.read_csv('/content/drive/MyDrive/Colab Notebooks/Portafolio.csv')\n",
        "        self.returns = pd.DataFrame(self.__compute_returns(), columns=self.assets.columns)\n",
        "        self.average_expected_return = pd.DataFrame(self.__compute_average_expected_return(),\n",
        "                                                    columns=self.assets.columns)\n",
        "        self.covariance = np.cov(self.returns.to_numpy(copy=True), rowvar=False)\n",
        "\n",
        "    def __compute_average_expected_return(self):\n",
        "        returns = self.returns.to_numpy(copy=True)\n",
        "        return np.array([[sum(returns[:, x]) / len(returns) for x in range(len(returns[0]))]])\n",
        "\n",
        "    def __compute_returns(self):\n",
        "        assets = self.assets.to_numpy(copy=True)\n",
        "        returns = self.assets.to_numpy(copy=True)\n",
        "        r = 1\n",
        "        while r < len(returns):\n",
        "            c = 0\n",
        "            while c < len(returns[r]):\n",
        "                returns[r][c] = (assets[r][c] - assets[r - 1][c]) / assets[r - 1][c]\n",
        "                c += 1\n",
        "            r += 1\n",
        "        return returns[1:, ]"
      ],
      "metadata": {
        "id": "LRa3fi_Fn65i"
      },
      "execution_count": 34,
      "outputs": []
    },
    {
      "cell_type": "markdown",
      "source": [
        "La clase population, la cual se encarga de manejar tanto el algoritmo genetico como el algoritmo genetico, aunque para este ejercicio solo se utilizan los metodos de el algoritmo genetico"
      ],
      "metadata": {
        "id": "JCY0q4eUn7nD"
      }
    },
    {
      "cell_type": "code",
      "source": [
        "class Population:\n",
        "    def __init__(self, average_expected_returns, covariance):\n",
        "        # Se almacenan los retornos en promedio\n",
        "        self.average_expected_returns = average_expected_returns\n",
        "        # se almacena la tabla se covarianza\n",
        "        self.covariance = covariance\n",
        "        # Se crea una poblacion de 100 cromosomas\n",
        "        self.chromosomes = np.array([Chromosome() for i in range(100)])\n",
        "        # se utiliza un array para el calculo del fitness\n",
        "        self.fitness = np.array([])\n",
        "        # Al iniciar se calcula el fitness\n",
        "        self.__compute_fitness()\n",
        "        # Se ordena la poblacion en base al fitness\n",
        "        self.__sort()\n",
        "    \n",
        "    # Esta funcion genera la siguiente generacion de la poblacion usando el algoritmo genetico\n",
        "    def next_generation(self):\n",
        "        children = self.__select_by_tournament()\n",
        "        self.__mutate(children)\n",
        "        self.__replacement(children)\n",
        "        self.__compute_fitness()\n",
        "        self.__sort()\n",
        "    \n",
        "    # Esta funcion genera la siguente generacion de la poblacion usando el algoritmo diferencial\n",
        "    def next_generation_by_differential_evolution(self):\n",
        "        mutation_vectors = self.__generate_mutation_vectors()\n",
        "        children = self.__differential_cross(mutation_vectors)\n",
        "        self.__differential_replacement(children)\n",
        "        self.__compute_fitness()\n",
        "        self.__sort()\n",
        "    \n",
        "    # Remplazo usando el algoritmo diferencial\n",
        "    def __differential_replacement(self, children):\n",
        "        for chromosome_index in range(len(self.chromosomes)):\n",
        "            if self.__target_function(children[chromosome_index]) > self.__target_function(\n",
        "                    self.chromosomes[chromosome_index]):\n",
        "                self.chromosomes[chromosome_index] = children[chromosome_index]\n",
        "\n",
        "    # Retorna el valor de la funcion objetivo con un cromosoma especifico\n",
        "    def __target_function(self, chromosome):\n",
        "        numerator = chromosome.compute_chromosome_return(self.average_expected_returns)\n",
        "        denominator = chromosome.compute_risk(self.covariance)\n",
        "        return numerator / denominator\n",
        "\n",
        "    # Genera los vectores de mutacion\n",
        "    def __generate_mutation_vectors(self):\n",
        "        mutation_vectors = np.array([])\n",
        "        for i in range(len(self.chromosomes)):\n",
        "            c1 = self.__select_different_chromosome_index([i])\n",
        "            c2 = self.__select_different_chromosome_index([i, c1])\n",
        "            f = random.random()\n",
        "            mutation_vectors = np.append(mutation_vectors, [self.__generate_mutation_vector_de_current(i, c1, c2, f)])\n",
        "        return mutation_vectors\n",
        "\n",
        "    # Realiza la crusa en el algoritmo diferencial\n",
        "    def __differential_cross(self, mutation_vectors):\n",
        "        children = np.array([])\n",
        "        for chromosome_index in range(len(self.chromosomes)):\n",
        "            cr = random.random()\n",
        "            new_child: Chromosome = Chromosome()\n",
        "            for gen_index in range(len(self.chromosomes[chromosome_index].genes)):\n",
        "                if random.random() == cr or \\\n",
        "                        random.randint(0, len(self.chromosomes[chromosome_index].genes)) == gen_index:\n",
        "                    new_child.genes[gen_index] = mutation_vectors[chromosome_index].genes[gen_index]\n",
        "                else:\n",
        "                    new_child.genes[gen_index] = self.chromosomes[chromosome_index].genes[gen_index]\n",
        "            new_child.normalize()\n",
        "            children = np.append(children, [new_child])\n",
        "        return children\n",
        "    \n",
        "    # Genera vectores de mutacion usando De/current\n",
        "    def __generate_mutation_vector_de_current(self, current, c1, c2, f):\n",
        "        mutation_vector = Chromosome()\n",
        "        for i in range(len(mutation_vector.genes)):\n",
        "            mutation_vector.genes[i] = abs(self.chromosomes[current].genes[i] + f * (self.chromosomes[c1].genes[i] -\n",
        "                                                                                     self.chromosomes[c2].genes[i]))\n",
        "        mutation_vector.normalize()\n",
        "        return mutation_vector\n",
        "    \n",
        "    # Calcula el fitness de la poblacion\n",
        "    def __compute_fitness(self):\n",
        "        self.fitness = np.array([])\n",
        "        for chromosome in self.chromosomes:\n",
        "            self.fitness = np.append(self.fitness, [self.__target_function(chromosome)])\n",
        "    \n",
        "    # Ordena la poblacion en base al fitness\n",
        "    def __sort(self):\n",
        "        sorted_pairs = sorted(zip(self.fitness, self.chromosomes), key=lambda x: x[0])\n",
        "        self.fitness = [i[0] for i in sorted_pairs]\n",
        "        self.chromosomes = [i[1] for i in sorted_pairs]\n",
        "    \n",
        "    # Realiza la cruza en el algoritmo genetico\n",
        "    def __cross(self, f1_index, f2_index, alpha):\n",
        "        children1, children2 = Chromosome(), Chromosome()\n",
        "        for i in range(len(children1.genes)):\n",
        "            children1.genes[i] = \\\n",
        "                self.chromosomes[f1_index].genes[i] * (1 - alpha) + self.chromosomes[f2_index].genes[i] * alpha\n",
        "            children2.genes[i] = \\\n",
        "                self.chromosomes[f2_index].genes[i] * (1 - alpha) + self.chromosomes[f1_index].genes[i] * alpha\n",
        "        children1.normalize()\n",
        "        children2.normalize()\n",
        "        return [children1, children2]\n",
        "\n",
        "    # Selecciona un indice que no este en la lista index_list\n",
        "    def __select_different_chromosome_index(self, index_list: list):\n",
        "        index2 = index_list[0]\n",
        "        while index2 in index_list:\n",
        "            index2 = random.randint(0, len(self.chromosomes) - 1)\n",
        "        return index2\n",
        "\n",
        "    # Realiza la seleccion por torneo\n",
        "    def __select_by_tournament(self):\n",
        "        children = np.array([])\n",
        "        for i in range(40):\n",
        "            alpha = random.random()\n",
        "            f1_index = random.randint(0, len(self.chromosomes) - 1)\n",
        "            f2_index = self.__select_different_chromosome_index([f1_index])\n",
        "            f3_index = self.__select_different_chromosome_index([f1_index, f2_index])\n",
        "            sorted_index_list = sorted([f1_index, f2_index, f3_index])\n",
        "            f1_index = sorted_index_list[1]\n",
        "            f2_index = sorted_index_list[2]\n",
        "            children = np.append(children, self.__cross(f1_index, f2_index, alpha))\n",
        "        return children\n",
        "    \n",
        "    # Realiza la mutacion en el algoritmo genetico\n",
        "    @staticmethod\n",
        "    def __mutate(children):\n",
        "        mutation_population_size = random.randint(1, 4)\n",
        "        mutation_index_list = np.random.choice([x for x in range(80)], mutation_population_size)\n",
        "        for chromosome_index in mutation_index_list:\n",
        "            children[chromosome_index].genes[random.randint(0, 9)] = random.random()\n",
        "            children[chromosome_index].normalize()\n",
        "    \n",
        "    # Realiza el remplazo en el algoritmo genetico\n",
        "    def __replacement(self, children):\n",
        "        i = 0\n",
        "        while i < 80:\n",
        "            self.chromosomes[i] = children[i]\n",
        "            i += 1"
      ],
      "metadata": {
        "id": "Pd9kD00Vp8yd"
      },
      "execution_count": 35,
      "outputs": []
    },
    {
      "cell_type": "markdown",
      "source": [
        "Se crea el portafolio "
      ],
      "metadata": {
        "id": "-0ph-EWNqDLX"
      }
    },
    {
      "cell_type": "code",
      "source": [
        "portfolio = PortfolioData()"
      ],
      "metadata": {
        "id": "9akk3_m_qYXr"
      },
      "execution_count": 36,
      "outputs": []
    },
    {
      "cell_type": "markdown",
      "source": [
        "Se muestran los activos"
      ],
      "metadata": {
        "id": "CKBh3sX9qaBK"
      }
    },
    {
      "cell_type": "code",
      "source": [
        "print(portfolio.assets.to_string())"
      ],
      "metadata": {
        "colab": {
          "base_uri": "https://localhost:8080/",
          "height": 0
        },
        "id": "e8_4YePcqcca",
        "outputId": "cd716a17-f334-4bc9-c4a5-9c7d412445c4"
      },
      "execution_count": 37,
      "outputs": [
        {
          "output_type": "stream",
          "name": "stdout",
          "text": [
            "      Sony    Amazon  Mercado libre    Intel     AMD  Agilent Technologies  Microsoft  Activision Blizzard  Ubisoft Entertainment  Spotify Technology\n",
            "0   111.79  67800.00       19700.01  1364.00   82.76                131.91    5134.82              1930.00                1364.50             5560.00\n",
            "1    97.40  63819.55       27687.93  1113.99   75.99                131.87    4940.09              1880.00                1414.68             4551.55\n",
            "2    98.60  65685.54       27100.00  1142.99   81.56                143.06    5059.03              1904.64                1394.91             4850.00\n",
            "3   102.04  73712.58       30760.00  1117.56   90.90                150.03    5513.50              1835.00                1309.40             5164.88\n",
            "4   100.88  66689.47       37490.00  1084.34  106.48                156.52    5740.66              1667.32                1230.08             4336.19\n",
            "5   110.32  69100.00       30467.50  1083.99  105.20                177.23    5887.84              1585.62                1322.00             4951.68\n",
            "6   109.15  67900.00       32620.00  1119.00  104.68                150.00    5927.00              1557.00                1143.00             4800.00\n",
            "7   121.45  71629.03       29799.00  1051.00  139.87                159.28    6828.99              1379.99                1100.53             5535.00\n",
            "8   123.26  71700.01       23799.00  1050.00  138.55                156.00    7131.35              1213.76                1044.25             4823.76\n",
            "9   127.17  65495.00       21499.99  1120.17  132.00                145.16    6378.49              1286.70                1214.46             4545.00\n",
            "10  109.91  65128.37       23299.99  1010.27  125.77                141.66    6221.76              1675.00                1193.84             3451.00\n",
            "11   11.18  64933.28       97700.01   974.00  106.46                134.33    5964.41              1688.00                 887.43             2821.00\n"
          ]
        }
      ]
    },
    {
      "cell_type": "markdown",
      "source": [
        "Se muestran los retornos"
      ],
      "metadata": {
        "id": "5UY520nLqfD9"
      }
    },
    {
      "cell_type": "code",
      "source": [
        "print(portfolio.returns.to_string())"
      ],
      "metadata": {
        "colab": {
          "base_uri": "https://localhost:8080/",
          "height": 0
        },
        "id": "tGFW4xcxqgL5",
        "outputId": "9a8206c0-847a-483d-895f-8c27792a0adc"
      },
      "execution_count": 38,
      "outputs": [
        {
          "output_type": "stream",
          "name": "stdout",
          "text": [
            "        Sony    Amazon  Mercado libre     Intel       AMD  Agilent Technologies  Microsoft  Activision Blizzard  Ubisoft Entertainment  Spotify Technology\n",
            "0  -0.128723 -0.058709       0.405478 -0.183292 -0.081803             -0.000303  -0.037923            -0.025907               0.036775           -0.181376\n",
            "1   0.012320  0.029239      -0.021234  0.026033  0.073299              0.084856   0.024076             0.013106              -0.013975            0.065571\n",
            "2   0.034888  0.122204       0.135055 -0.022249  0.114517              0.048721   0.089833            -0.036563              -0.061301            0.064924\n",
            "3  -0.011368 -0.095277       0.218791 -0.029725  0.171397              0.043258   0.041201            -0.091379              -0.060577           -0.160447\n",
            "4   0.093577  0.036146      -0.187317 -0.000323 -0.012021              0.132315   0.025638            -0.049001               0.074727            0.141943\n",
            "5  -0.010606 -0.017366       0.070649  0.032297 -0.004943             -0.153642   0.006651            -0.018050              -0.135401           -0.030632\n",
            "6   0.112689  0.054919      -0.086481 -0.060769  0.336167              0.061867   0.152183            -0.113687              -0.037157            0.153125\n",
            "7   0.014903  0.000991      -0.201349 -0.000951 -0.009437             -0.020593   0.044276            -0.120457              -0.051139           -0.128499\n",
            "8   0.031722 -0.086541      -0.096601  0.066829 -0.047275             -0.069487  -0.105570             0.060094               0.162997           -0.057789\n",
            "9  -0.135724 -0.005598       0.083721 -0.098110 -0.047197             -0.024111  -0.024572             0.301780              -0.016979           -0.240704\n",
            "10 -0.898280 -0.002995       3.193135 -0.035901 -0.153534             -0.051744  -0.041363             0.007761              -0.256659           -0.182556\n"
          ]
        }
      ]
    },
    {
      "cell_type": "markdown",
      "source": [
        "Se muestran los retornos promedio"
      ],
      "metadata": {
        "id": "JWOqfC2Aqh0n"
      }
    },
    {
      "cell_type": "code",
      "source": [
        "print(portfolio.average_expected_return.to_string())"
      ],
      "metadata": {
        "colab": {
          "base_uri": "https://localhost:8080/",
          "height": 0
        },
        "id": "5-qIzkRBqjnu",
        "outputId": "1c9ed4bf-9118-4dad-9e22-f5c1142dfb6b"
      },
      "execution_count": 39,
      "outputs": [
        {
          "output_type": "stream",
          "name": "stdout",
          "text": [
            "       Sony   Amazon  Mercado libre     Intel       AMD  Agilent Technologies  Microsoft  Activision Blizzard  Ubisoft Entertainment  Spotify Technology\n",
            "0 -0.080418 -0.00209       0.319441 -0.027833  0.030834              0.004649   0.015857            -0.006573              -0.032608           -0.050585\n"
          ]
        }
      ]
    },
    {
      "cell_type": "markdown",
      "source": [
        "Se crea la poblacion"
      ],
      "metadata": {
        "id": "R-IRMmHdqpqj"
      }
    },
    {
      "cell_type": "code",
      "source": [
        "population: Population = Population(portfolio.average_expected_return.to_numpy(copy=True), portfolio.covariance)"
      ],
      "metadata": {
        "id": "Xsi7IcJkqrBj"
      },
      "execution_count": 40,
      "outputs": []
    },
    {
      "cell_type": "markdown",
      "source": [
        "Se muestra el mejor valor de al primera generacion"
      ],
      "metadata": {
        "id": "nm21Cfm8qrvn"
      }
    },
    {
      "cell_type": "code",
      "source": [
        "print(population.fitness[-1])"
      ],
      "metadata": {
        "colab": {
          "base_uri": "https://localhost:8080/",
          "height": 0
        },
        "id": "Ljsjgy5WqwyN",
        "outputId": "ed2b704b-cae2-4b48-d4cb-d27c8b8a360f"
      },
      "execution_count": 41,
      "outputs": [
        {
          "output_type": "stream",
          "name": "stdout",
          "text": [
            "7.613731179261558\n"
          ]
        }
      ]
    },
    {
      "cell_type": "markdown",
      "source": [
        "Se realizan las iteracion por convergencia en 500"
      ],
      "metadata": {
        "id": "P2O4QvA0q0KZ"
      }
    },
    {
      "cell_type": "code",
      "source": [
        "best_fitness_history = [population.fitness[-1]]\n",
        "convergence_iterations = 500\n",
        "current_iterations = convergence_iterations\n",
        "while current_iterations > 0:\n",
        "    population.next_generation()\n",
        "    best_fitness_history.append(population.fitness[-1])\n",
        "    if best_fitness_history[-1] == best_fitness_history[-2]:\n",
        "        current_iterations -= 1\n",
        "    else:\n",
        "        current_iterations = convergence_iterations"
      ],
      "metadata": {
        "id": "utobO0OJq3EP"
      },
      "execution_count": 42,
      "outputs": []
    },
    {
      "cell_type": "markdown",
      "source": [
        "Se muestra el mejor valor obtenido al finalizar las iteraciones"
      ],
      "metadata": {
        "id": "0Fkg_PdXq6zc"
      }
    },
    {
      "cell_type": "code",
      "source": [
        "print(best_fitness_history[-1])"
      ],
      "metadata": {
        "colab": {
          "base_uri": "https://localhost:8080/",
          "height": 0
        },
        "id": "9heC6fEPq91h",
        "outputId": "47fc5872-eb07-4c4a-dc0f-b4d78321583b"
      },
      "execution_count": 43,
      "outputs": [
        {
          "output_type": "stream",
          "name": "stdout",
          "text": [
            "19.23808852339548\n"
          ]
        }
      ]
    },
    {
      "cell_type": "markdown",
      "source": [
        "Se muestra un historial de el mejor en cada iteracion"
      ],
      "metadata": {
        "id": "DhSgcJuyq_87"
      }
    },
    {
      "cell_type": "code",
      "source": [
        "plt.plot([i for i in range(len(best_fitness_history))], best_fitness_history)\n",
        "plt.show()"
      ],
      "metadata": {
        "colab": {
          "base_uri": "https://localhost:8080/",
          "height": 265
        },
        "id": "4dI2WHUNrNC5",
        "outputId": "b81b6135-6918-4dd0-d72b-1714b5f43c69"
      },
      "execution_count": 44,
      "outputs": [
        {
          "output_type": "display_data",
          "data": {
            "text/plain": [
              "<Figure size 432x288 with 1 Axes>"
            ],
            "image/png": "[encoded data removed]"
          },
          "metadata": {
            "needs_background": "light"
          }
        }
      ]
    },
    {
      "cell_type": "markdown",
      "source": [
        "Se muestran los valores a imprimir en cada compañia"
      ],
      "metadata": {
        "id": "QxKAKvJurO5U"
      }
    },
    {
      "cell_type": "code",
      "source": [
        "print(pd.DataFrame([population.chromosomes[-1].genes], columns=portfolio.assets.columns).to_string())"
      ],
      "metadata": {
        "colab": {
          "base_uri": "https://localhost:8080/",
          "height": 0
        },
        "id": "lgAUxa3NrVst",
        "outputId": "096bb595-c838-42de-ce07-8fc0b1bc8fca"
      },
      "execution_count": 45,
      "outputs": [
        {
          "output_type": "stream",
          "name": "stdout",
          "text": [
            "       Sony    Amazon  Mercado libre     Intel       AMD  Agilent Technologies  Microsoft  Activision Blizzard  Ubisoft Entertainment  Spotify Technology\n",
            "0  0.099388  0.000048       0.064183  0.012173  0.000233              0.000514   0.454916             0.141877               0.226473            0.000194\n"
          ]
        }
      ]
    },
    {
      "cell_type": "markdown",
      "source": [
        "Se muestra graficamente los valores a imprimir"
      ],
      "metadata": {
        "id": "WsnTXW26rXqc"
      }
    },
    {
      "cell_type": "code",
      "source": [
        "plt.pie(population.chromosomes[-1].genes, labels=portfolio.assets.columns)\n",
        "plt.show()"
      ],
      "metadata": {
        "colab": {
          "base_uri": "https://localhost:8080/",
          "height": 248
        },
        "id": "m8VxZjtfrbOF",
        "outputId": "629eb770-ee24-4a80-d9e6-db34b96c9af7"
      },
      "execution_count": 46,
      "outputs": [
        {
          "output_type": "display_data",
          "data": {
            "text/plain": [
              "<Figure size 432x288 with 1 Axes>"
            ],
            "image/png": "[encoded data removed]"
          },
          "metadata": {}
        }
      ]
    },
    {
      "cell_type": "markdown",
      "source": [
        "Finalmente se muestra una tabla comparando el riesgo y el retorno esperado"
      ],
      "metadata": {
        "id": "dFlPF3Prrd2d"
      }
    },
    {
      "cell_type": "code",
      "source": [
        "chromosome_return = population.chromosomes[-1].compute_chromosome_return(\n",
        "        portfolio.average_expected_return.to_numpy())\n",
        "chromosome_risk = population.chromosomes[-1].compute_risk(portfolio.covariance)\n",
        "plt.bar(['Return', 'Risk'], [chromosome_return, chromosome_risk])\n",
        "plt.show()"
      ],
      "metadata": {
        "colab": {
          "base_uri": "https://localhost:8080/",
          "height": 265
        },
        "id": "eQTk2BsRrh_n",
        "outputId": "c89dfcd7-e0df-4bf2-e263-28d7fd75d6c9"
      },
      "execution_count": 47,
      "outputs": [
        {
          "output_type": "display_data",
          "data": {
            "text/plain": [
              "<Figure size 432x288 with 1 Axes>"
            ],
            "image/png": "[encoded data removed]"
          },
          "metadata": {
            "needs_background": "light"
          }
        }
      ]
    }
  ]
}